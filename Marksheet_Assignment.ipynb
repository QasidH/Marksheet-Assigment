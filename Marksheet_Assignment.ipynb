{
 "cells": [
  {
   "cell_type": "code",
   "execution_count": 6,
   "metadata": {},
   "outputs": [],
   "source": [
    "import csv\n",
    "userName = 'Qasid Hussain' \n",
    "roll_num='AIC032011'\n",
    "bio =70 \n",
    "cs = 77\n",
    "eng = 86\n",
    "phy = 99\n",
    "total = 400\n",
    "obt = bio + cs+ eng + phy\n",
    "Grade = ''\n",
    "\n",
    "per = float(obt / total * 100)\n",
    "\n",
    "if(per>=80):\n",
    "    Grade='A+'\n",
    "elif(per>=70 and per<80):\n",
    "    Grade='A'\n",
    "elif(per>=60 and per<70):\n",
    "    Grade='B'\n",
    "elif(per>=50 and per<60):\n",
    "    Grade='C'\n",
    "else:\n",
    "    Grade='Fail'\n",
    "\n",
    "\n",
    "with open(\"Marksheet.csv\",\"w\" ,newline=\"\") as f:\n",
    "\n",
    "        file_handler = csv.writer(f, delimiter=',') \n",
    "        file_handler.writerow([\"Name\",\"Roll Number\"])\n",
    "        file_handler.writerow([userName,roll_num])\n",
    "        file_handler.writerow([])\n",
    "        file_handler.writerow([])\n",
    "        file_handler.writerow([\"Biology\",\"computer\",\"English\",\"Physics\",\"Obtain Marks\",\"Total Marks\",\"Percentage\",\"Grade\"])\n",
    "        file_handler.writerow([bio,cs,eng,phy,obt,total,float(per),Grade])"
   ]
  },
  {
   "cell_type": "code",
   "execution_count": null,
   "metadata": {},
   "outputs": [],
   "source": []
  },
  {
   "cell_type": "code",
   "execution_count": null,
   "metadata": {},
   "outputs": [],
   "source": []
  }
 ],
 "metadata": {
  "kernelspec": {
   "display_name": "Python 3",
   "language": "python",
   "name": "python3"
  },
  "language_info": {
   "codemirror_mode": {
    "name": "ipython",
    "version": 3
   },
   "file_extension": ".py",
   "mimetype": "text/x-python",
   "name": "python",
   "nbconvert_exporter": "python",
   "pygments_lexer": "ipython3",
   "version": "3.7.3"
  }
 },
 "nbformat": 4,
 "nbformat_minor": 2
}
